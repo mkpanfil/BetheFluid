{
 "cells": [
  {
   "cell_type": "markdown",
   "id": "b13f3e7d-4458-471a-b318-a304e9c3478a",
   "metadata": {},
   "source": [
    "This jupyter-notebook presents the core facillities of BetheFluid package\n",
    "with examples."
   ]
  },
  {
   "cell_type": "code",
   "execution_count": 1,
   "id": "70a67083-0c73-4732-b82d-7d30cccf2f66",
   "metadata": {},
   "outputs": [],
   "source": [
    "import BetheFluid as bth\n",
    "import numpy as np\n",
    "import matplotlib.pyplot as plt"
   ]
  },
  {
   "cell_type": "markdown",
   "id": "2cceffcc-7d6f-447c-baaa-5b750be90bd3",
   "metadata": {},
   "source": [
    "To initiallize calculations one has to create the object of the class Solver. In the above example one takes default arguments of the momenta, position and time grid as well as the initiall state of the momentum density. "
   ]
  },
  {
   "cell_type": "code",
   "execution_count": 2,
   "id": "5a894ce1-59be-41ae-a6c0-626e47e17012",
   "metadata": {},
   "outputs": [],
   "source": [
    "calculation = bth.Solver()"
   ]
  },
  {
   "cell_type": "markdown",
   "id": "b2ff2fde-9a26-487d-a475-c1ecdfbdfd94",
   "metadata": {},
   "source": [
    "To start calculations, one can use method solve_equation(path), where path argument defines name and  path to save Solver object as .pkl binary file. Argument path is by default None and does not save any files."
   ]
  },
  {
   "cell_type": "code",
   "execution_count": 3,
   "id": "6bd3dae9-fd61-4b0b-9d4a-d778b2b04925",
   "metadata": {},
   "outputs": [
    {
     "name": "stderr",
     "output_type": "stream",
     "text": [
      "100%|████████████████████████████████████████████████████████████████████████████████████| 4/4 [00:00<00:00, 15.29it/s]\n"
     ]
    }
   ],
   "source": [
    "calculation.solve_equation(path='./files/first_calculation.pkl')"
   ]
  },
  {
   "cell_type": "markdown",
   "id": "380ac758-3a39-4fb4-8ae8-b1328d28eef9",
   "metadata": {},
   "source": [
    "The array of the momenta density is grid attribute. The diemnsions are with the order of:\n",
    "moment, position, time"
   ]
  },
  {
   "cell_type": "code",
   "execution_count": 4,
   "id": "cd1b8cbe-cb7e-41e9-b420-6bcde5aac43c",
   "metadata": {},
   "outputs": [
    {
     "data": {
      "text/plain": [
       "(40, 25, 5)"
      ]
     },
     "execution_count": 4,
     "metadata": {},
     "output_type": "execute_result"
    }
   ],
   "source": [
    "calculation.grid.shape"
   ]
  },
  {
   "cell_type": "markdown",
   "id": "0df584e0-2bd7-45a7-98c9-84cfe67308dd",
   "metadata": {},
   "source": [
    "Below shows how to create users initial state and grids "
   ]
  },
  {
   "cell_type": "code",
   "execution_count": 5,
   "id": "22410f83-8d91-4eed-9389-26ba965c4829",
   "metadata": {},
   "outputs": [],
   "source": [
    "# function that defines the initial state\n",
    "\n",
    "def initial_state(l, x):\n",
    "    rho = (2 + 0.25 * np.cos(2 * x * np.pi)) * (\n",
    "            1 / (1 + np.exp(2 * (l + 2.4) ** 2 - 3)) + 1 / (1 + np.exp(2 * (l - 2.4) ** 2 - 3))) / (\n",
    "                  2 * np.pi) * 0.25 / 2\n",
    "\n",
    "    return rho\n",
    "\n",
    "\n",
    "# creating position, momenta and time grids \n",
    "\n",
    "x_grid, int_x = np.linspace(-0.5, 0.5, 25, endpoint=False, retstep=True)\n",
    "l_grid, int_l = np.linspace(-5, 5, 40, endpoint=False, retstep=True)\n",
    "t_diff = np.arange(0, 0.005, 0.001)\n",
    "\n",
    "# interaction constant for Lieb-Liniger model\n",
    "c = 3"
   ]
  },
  {
   "cell_type": "markdown",
   "id": "961afe18-4768-4b85-ad7c-960d4327201b",
   "metadata": {},
   "source": [
    "Passing arguments to Solver:"
   ]
  },
  {
   "cell_type": "code",
   "execution_count": 6,
   "id": "259ef9cf-8854-431d-94ba-5f1511749ae3",
   "metadata": {},
   "outputs": [],
   "source": [
    "user_calculation = bth.Solver(t_grid=t_diff, miu_grid=l_grid, x_grid=x_grid, \n",
    "                          rho0=initial_state, coupling=c)"
   ]
  },
  {
   "cell_type": "markdown",
   "id": "b46d062a-547d-43b3-936c-1e745c13e873",
   "metadata": {},
   "source": [
    "By the default the calculation is performed with diffusion correction. To turn it off one has to change default attribute of diff"
   ]
  },
  {
   "cell_type": "code",
   "execution_count": 7,
   "id": "bdae1247-c848-47a9-ab77-da6a8ab5547c",
   "metadata": {},
   "outputs": [],
   "source": [
    "no_diffusion = bth.Solver(diff=None)"
   ]
  },
  {
   "cell_type": "code",
   "execution_count": 8,
   "id": "39202578-03cb-40af-a602-5059e62f9230",
   "metadata": {},
   "outputs": [
    {
     "name": "stderr",
     "output_type": "stream",
     "text": [
      "100%|████████████████████████████████████████████████████████████████████████████████████| 4/4 [00:00<00:00, 15.46it/s]\n"
     ]
    }
   ],
   "source": [
    "no_diffusion.solve_equation()"
   ]
  },
  {
   "cell_type": "markdown",
   "id": "4670b226-87a0-4c84-a263-a97ff7c38da0",
   "metadata": {},
   "source": [
    "Lastly one can calculate time evolution under the external potential, by passing the argument potential. By default calculations is done with diffusion and external potential. External potential is avalaible only with the diffusion term. With diff=None, calculation is performed as if there was no potential."
   ]
  },
  {
   "cell_type": "code",
   "execution_count": 9,
   "id": "3c66d8d9-1fcf-477d-ad13-f3ef227e18bc",
   "metadata": {},
   "outputs": [],
   "source": [
    "# defining external potential\n",
    "\n",
    "def potential_def(x):\n",
    "    potential = 1 / 5 * np.cos(2 * np.pi * x)\n",
    "\n",
    "    return potential\n",
    "\n",
    "# passing to Solver\n",
    "external_potential = bth.Solver(potential=potential_def)"
   ]
  },
  {
   "cell_type": "markdown",
   "id": "ff373e76-01f0-4623-a19e-27d9828f97dc",
   "metadata": {},
   "source": [
    "Once calculation is saved, by path argument in solve_equation() or by save(path) method, the pkl file can be loaded with method load(path)"
   ]
  },
  {
   "cell_type": "code",
   "execution_count": 10,
   "id": "e503cf74-8e17-4e75-b2d6-27e09115fd54",
   "metadata": {},
   "outputs": [],
   "source": [
    "loaded_calculation = bth.Solver.load('./files/implicit_calculation.pkl')"
   ]
  },
  {
   "cell_type": "markdown",
   "id": "47214f1b-2227-4588-a8b0-45e94a59cf53",
   "metadata": {},
   "source": [
    "Benefits of saving the whole object rather than just an array of the momenta density is that we save additional informations about the calculation, which can be just printed"
   ]
  },
  {
   "cell_type": "code",
   "execution_count": 11,
   "id": "486c0971-ad24-4372-93de-e2ed2e527f3a",
   "metadata": {},
   "outputs": [
    {
     "name": "stdout",
     "output_type": "stream",
     "text": [
      "Solver object:\n",
      "coupling constant: 3\n",
      "time grid: Length: 20000, average interval 0.001, final step 19.999\n",
      "space grid: Length: 25, average interval -0.01999999999999999, final step 0.45999999999999996\n",
      "diffusion: False\n"
     ]
    }
   ],
   "source": [
    "print(loaded_calculation)"
   ]
  },
  {
   "cell_type": "markdown",
   "id": "ff0a43ca-0428-4813-8b18-e7902a22efa2",
   "metadata": {},
   "source": [
    "If calculation did not converge to homogenous state in position space, one can utilize method continue_calculations to check the further times by specifying how much ones wants to elongate calculation"
   ]
  },
  {
   "cell_type": "code",
   "execution_count": 12,
   "id": "5f94e48a-7617-4566-989f-abe88a278564",
   "metadata": {},
   "outputs": [
    {
     "data": {
      "text/plain": [
       "array([0.   , 0.001, 0.002, 0.003, 0.004])"
      ]
     },
     "execution_count": 12,
     "metadata": {},
     "output_type": "execute_result"
    }
   ],
   "source": [
    "# before elongation\n",
    "user_calculation.t_grid"
   ]
  },
  {
   "cell_type": "code",
   "execution_count": 13,
   "id": "61943461-bba9-4b4d-98a9-aad5fdb743b6",
   "metadata": {},
   "outputs": [
    {
     "name": "stderr",
     "output_type": "stream",
     "text": [
      "100%|████████████████████████████████████████████████████████████████████████████████████| 5/5 [00:00<00:00, 18.96it/s]\n"
     ]
    }
   ],
   "source": [
    "# performing calculations for longer times\n",
    "user_calculation.continue_calculations(elongation_factor=1.5)"
   ]
  },
  {
   "cell_type": "code",
   "execution_count": 14,
   "id": "9675de7e-1590-4347-bb0b-7dd04905d90e",
   "metadata": {},
   "outputs": [
    {
     "data": {
      "text/plain": [
       "array([0.   , 0.001, 0.002, 0.003, 0.004, 0.005, 0.006, 0.007, 0.008,\n",
       "       0.009])"
      ]
     },
     "execution_count": 14,
     "metadata": {},
     "output_type": "execute_result"
    }
   ],
   "source": [
    "# after the elongation\n",
    "user_calculation.t_grid"
   ]
  },
  {
   "cell_type": "markdown",
   "id": "159e9867-315b-4e78-833d-599aa6740f4d",
   "metadata": {},
   "source": [
    "Once calculation is performed, one can analize the data with the class Observable(Solver)"
   ]
  },
  {
   "cell_type": "code",
   "execution_count": 15,
   "id": "f88251b1-7e56-488e-b4d3-68e9a41a0666",
   "metadata": {},
   "outputs": [],
   "source": [
    "obs = bth.Observable(loaded_calculation)"
   ]
  },
  {
   "cell_type": "markdown",
   "id": "0b12307a-9666-451f-9844-1fb5356f6dc4",
   "metadata": {},
   "source": [
    "Equivalently one cas just pass the path to the .pkl file with Solver object"
   ]
  },
  {
   "cell_type": "code",
   "execution_count": 16,
   "id": "fe56ca9d-bd02-4969-ab04-4ecb03851873",
   "metadata": {},
   "outputs": [],
   "source": [
    "obs = bth.Observable('./files/implicit_calculation.pkl')"
   ]
  },
  {
   "cell_type": "markdown",
   "id": "7e9fa421-a0c8-4c62-ae78-5aa0f6107b99",
   "metadata": {},
   "source": [
    "Observable can plot the energy, entropy and occupation function evolution with plot methods"
   ]
  },
  {
   "cell_type": "code",
   "execution_count": 17,
   "id": "acb427df-fd64-41e4-8b60-01deb82c17d3",
   "metadata": {},
   "outputs": [
    {
     "data": {
      "image/png": "[encoded data removed]",
      "text/plain": [
       "<Figure size 640x480 with 1 Axes>"
      ]
     },
     "metadata": {},
     "output_type": "display_data"
    }
   ],
   "source": [
    "obs.plot_energy()"
   ]
  },
  {
   "cell_type": "markdown",
   "id": "e1c03191-da56-42aa-9cf5-fae67b2af906",
   "metadata": {},
   "source": [
    "The plot_n method has argument frames, which specifies takes a list of time frames user want to plot"
   ]
  },
  {
   "cell_type": "code",
   "execution_count": 18,
   "id": "ab81321a-919b-4e24-bae6-4568041b539a",
   "metadata": {},
   "outputs": [
    {
     "data": {
      "image/png": "[encoded data removed]",
      "text/plain": [
       "<Figure size 640x480 with 1 Axes>"
      ]
     },
     "metadata": {},
     "output_type": "display_data"
    }
   ],
   "source": [
    "obs.plot_n(frames=[0, 1000, 2000, -1])"
   ]
  },
  {
   "cell_type": "markdown",
   "id": "cbeb8e08-65e4-40f8-aa3b-6aac641eb528",
   "metadata": {},
   "source": [
    "If one wants to make his own plots of observables, one can use calc_ functions. The dimensions of the returned observables is as in Solver object: momenta, position, time, but with one or two of variables integrated out"
   ]
  },
  {
   "cell_type": "code",
   "execution_count": 19,
   "id": "b0aaa756-b370-42fc-b465-fafabd0ff2eb",
   "metadata": {},
   "outputs": [
    {
     "data": {
      "text/plain": [
       "[<matplotlib.lines.Line2D at 0x2bf1cda59f0>]"
      ]
     },
     "execution_count": 19,
     "metadata": {},
     "output_type": "execute_result"
    },
    {
     "data": {
      "image/png": "[encoded data removed]",
      "text/plain": [
       "<Figure size 640x480 with 1 Axes>"
      ]
     },
     "metadata": {},
     "output_type": "display_data"
    }
   ],
   "source": [
    "# calculating the energy\n",
    "energy_array = obs.calc_energy()\n",
    "\n",
    "plt.plot(obs.solver_object.t_grid, energy_array)"
   ]
  },
  {
   "cell_type": "markdown",
   "id": "207e3143-db38-4bba-9f05-cb433069f105",
   "metadata": {},
   "source": [
    "All calc and plots methods accept argument option which might one of the following strings:\n",
    "'local', 'theta', 'total'. 'local' integrates the observable over momenta space, 'theta' integrates over position space, whereas 'total' integrates over both momenta and position space."
   ]
  },
  {
   "cell_type": "code",
   "execution_count": 20,
   "id": "2096c473-2b10-412f-8931-aa059c3889c1",
   "metadata": {},
   "outputs": [
    {
     "data": {
      "text/plain": [
       "(25, 20000)"
      ]
     },
     "execution_count": 20,
     "metadata": {},
     "output_type": "execute_result"
    }
   ],
   "source": [
    "entropy = obs.calc_entropy(option='local')\n",
    "entropy.shape"
   ]
  },
  {
   "cell_type": "code",
   "execution_count": 21,
   "id": "07804b8c-6710-40f4-bfe4-4cb9ab585470",
   "metadata": {},
   "outputs": [
    {
     "data": {
      "text/plain": [
       "(40, 20000)"
      ]
     },
     "execution_count": 21,
     "metadata": {},
     "output_type": "execute_result"
    }
   ],
   "source": [
    "entropy = obs.calc_entropy(option='theta')\n",
    "entropy.shape"
   ]
  },
  {
   "cell_type": "code",
   "execution_count": null,
   "id": "58fca1af-4f20-49b4-81f6-07f47690331a",
   "metadata": {},
   "outputs": [],
   "source": []
  }
 ],
 "metadata": {
  "kernelspec": {
   "display_name": "Python 3 (ipykernel)",
   "language": "python",
   "name": "python3"
  },
  "language_info": {
   "codemirror_mode": {
    "name": "ipython",
    "version": 3
   },
   "file_extension": ".py",
   "mimetype": "text/x-python",
   "name": "python",
   "nbconvert_exporter": "python",
   "pygments_lexer": "ipython3",
   "version": "3.10.11"
  }
 },
 "nbformat": 4,
 "nbformat_minor": 5
}
